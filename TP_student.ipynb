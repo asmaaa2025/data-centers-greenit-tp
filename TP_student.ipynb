{
 "cells": [
  {
   "cell_type": "markdown",
   "id": "7f118c14",
   "metadata": {},
   "source": [
    "#  TP : Data Centers, Green IT et Data Science\n",
    "### Master 2 – Data / IA\n",
    "\n",
    "---\n",
    "\n",
    "## Objectifs du TP\n",
    "- Manipuler un **dataset réel** lié aux infrastructures numériques.\n",
    "- Explorer les **enjeux énergétiques et environnementaux** des data centers.\n",
    "- Développer des compétences en **nettoyage, analyse et visualisation de données**.\n",
    "- Relier l’analyse statistique aux **cadres réglementaires (UE, USA, Singapour, Australie)**.\n",
    "- Appliquer des techniques de **Data Science (corrélations, modèles de régression)**.\n",
    "- Mettre en œuvre un pipeline simple de **CI/CD** pour automatiser l’analyse.\n"
   ]
  },
  {
   "cell_type": "markdown",
   "id": "329d7949",
   "metadata": {},
   "source": [
    "##  Données\n",
    "Fichier fourni : `Book1.csv` (extrait d’une base mondiale de data centers).\n",
    "\n",
    "Variables principales :\n",
    "- `Country` : pays\n",
    "- `Continent` : continent\n",
    "- `Number of data centres` : nombre total recensé\n",
    "- `Gross Power (MW)` : puissance électrique installée\n",
    "- `Renewable Energy Usage (%)` : part estimée d’énergie renouvelable\n",
    "- Autres colonnes liées aux surfaces, capacités, données disponibles…\n"
   ]
  },
  {
   "cell_type": "markdown",
   "id": "2456f12f",
   "metadata": {},
   "source": [
    "## Partie 1 — Préparation & Nettoyage des données\n",
    "**Travail attendu :**\n",
    "1. Charger le dataset avec `pandas`.\n",
    "2. Vérifier le nombre de lignes/colonnes et explorer les 5 premières lignes.\n",
    "3. Identifier et traiter les valeurs manquantes (par suppression ou imputation).\n",
    "4. Supprimer les colonnes inutiles pour l’analyse.\n",
    "5. Construire un **mini dictionnaire de données** avec 3 colonnes clés.\n",
    "\n",
    " **Question :** pourquoi un dictionnaire de données est-il indispensable dans un projet de gouvernance des données ?"
   ]
  },
  {
   "cell_type": "code",
   "execution_count": null,
   "id": "9dafa703",
   "metadata": {},
   "outputs": [],
   "source": [
    "# Votre code ici\n"
   ]
  },
  {
   "cell_type": "markdown",
   "id": "33b8445c",
   "metadata": {},
   "source": [
    "## Partie 2 — Exploration et Visualisation\n",
    "**Travail attendu :**\n",
    "1. Identifier les **10 pays** avec le plus grand nombre de data centers.\n",
    "   - Afficher sous forme de tableau.\n",
    "   - Tracer un graphique en barres.\n",
    "2. Représenter la distribution de la **puissance installée (MW)**.\n",
    "3. Tracer un **scatter plot** entre `Gross Power (MW)` et `% renouvelable`.\n",
    "\n",
    " **Question :** commentez la relation observée. Est-ce que la puissance d’un data center permet de prédire sa durabilité ?"
   ]
  },
  {
   "cell_type": "code",
   "execution_count": null,
   "id": "97e4cada",
   "metadata": {},
   "outputs": [],
   "source": [
    "# Votre code ici\n"
   ]
  },
  {
   "cell_type": "markdown",
   "id": "a7eeb487",
   "metadata": {},
   "source": [
    "## Partie 3 — Comparaison intercontinentale\n",
    "**Travail attendu :**\n",
    "1. Agréger par **continent** le `% d’énergie renouvelable`.\n",
    "2. Comparer les continents dans un **bar chart**.\n",
    "3. Focus sur l’Europe vs Amérique du Nord :\n",
    "   - Calculer la moyenne et l’écart-type du `% renouvelable`.\n",
    "   - Discuter les différences en lien avec les lois (EED en Europe vs ENERGY STAR aux USA).\n",
    "\n",
    " **Question :** que montrent ces écarts sur l’efficacité des lois européennes par rapport aux approches volontaires américaines ?"
   ]
  },
  {
   "cell_type": "code",
   "execution_count": null,
   "id": "c4667f26",
   "metadata": {},
   "outputs": [],
   "source": [
    "# Votre code ici\n"
   ]
  },
  {
   "cell_type": "markdown",
   "id": "d37e3a77",
   "metadata": {},
   "source": [
    "## Partie 4 — Data Science\n",
    "**Travail attendu :**\n",
    "1. Calculer les **corrélations** entre variables (`Gross Power`, `% renouvelable`, `Number of data centres`).\n",
    "2. Construire un **modèle de régression linéaire** simple :\n",
    "   - `Y = % renouvelable`\n",
    "   - `X = puissance installée (MW)`\n",
    "3. Évaluer le modèle avec **R²** et **RMSE**.\n",
    "4. Tester un **modèle multiple** (ajouter `Number of data centres`).\n",
    "\n",
    " **Question :** expliquez pourquoi un R² faible est **aussi une information précieuse** en gouvernance énergétique."
   ]
  },
  {
   "cell_type": "code",
   "execution_count": null,
   "id": "8d22e96c",
   "metadata": {},
   "outputs": [],
   "source": [
    "# Votre code ici\n"
   ]
  },
  {
   "cell_type": "markdown",
   "id": "2aa88a56",
   "metadata": {},
   "source": [
    "## Partie 5 — CI/CD\n",
    "**Travail attendu :**\n",
    "1. Créer un fichier `requirements.txt` listant vos dépendances (pandas, matplotlib, scikit-learn, pytest…).\n",
    "2. Écrire un petit fichier de test `test_sample.py` avec au moins 2 assertions.\n",
    "3. Créer un workflow GitHub Actions `.github/workflows/python-ci.yml` qui :\n",
    "   - installe les dépendances,\n",
    "   - exécute `pytest`,\n",
    "   - lance le notebook pour vérifier qu’il s’exécute sans erreur.\n",
    "\n",
    " **Question :** en quoi l’automatisation CI/CD est-elle une bonne pratique de **Green IT** ?"
   ]
  },
  {
   "cell_type": "code",
   "execution_count": null,
   "id": "5e1405f5",
   "metadata": {},
   "outputs": [],
   "source": [
    "# Votre code ici\n"
   ]
  },
  {
   "cell_type": "markdown",
   "id": "d786f2fc",
   "metadata": {},
   "source": [
    "##  Livrables attendus\n",
    "- Un notebook `TP_Etudiant.ipynb` complété.\n",
    "- Un mini dictionnaire de données en Markdown.\n",
    "- Des visualisations (bar chart, scatter plot, comparatif continental).\n",
    "- Une courte discussion (Europe vs USA).\n",
    "- `requirements.txt`, `test_sample.py`, et le workflow CI/CD."
   ]
  }
 ],
 "metadata": {
  "language_info": {
   "name": "python"
  }
 },
 "nbformat": 4,
 "nbformat_minor": 5
}
